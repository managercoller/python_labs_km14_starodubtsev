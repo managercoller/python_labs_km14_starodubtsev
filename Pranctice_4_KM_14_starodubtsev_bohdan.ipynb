{
  "nbformat": 4,
  "nbformat_minor": 2,
  "metadata": {
    "colab": {
      "name": "Pranctice_3_KM-01_<name>.ipynb",
      "provenance": [],
      "collapsed_sections": []
    },
    "kernelspec": {
      "name": "python3",
      "display_name": "Python 3"
    }
  },
  "cells": [
    {
      "cell_type": "markdown",
      "source": [
        "# **Курс \"Програмування на мові Python\"**"
      ],
      "metadata": {
        "id": "1bRxWHr5e8kt"
      }
    },
    {
      "cell_type": "markdown",
      "source": [
        "## **Практичне зайняття №4**\n",
        "### Тема: \"Перші програми на Python. Введення та виведення даних. Інструкція if\""
      ],
      "metadata": {
        "id": "buZUwUgFe-kx"
      }
    },
    {
      "cell_type": "markdown",
      "source": [
        "### **Завдання 1 (1,5 бали)**\n",
        "\n"
      ],
      "metadata": {
        "id": "PUkxEn8EfAUe"
      }
    },
    {
      "cell_type": "markdown",
      "source": [
        "**Написати програму введення та виведення даних про одержувача листа (посилки) за стандартами Укрпошти.**\n",
        "\n",
        "1. Усі запити на введення даних повинні супроводжуватись відповідними підказками-поясненнями (бажано англійською мовою).\n",
        "\n",
        "2. Дані мають виводитись так, як показано нижче (з урахуванням кількості рядків та послідовності даних у кожному з них).\n",
        "\n",
        "3. Дані, виділені жирним шрифтом, повинні вводитись із клавіатури. Всього має бути 9 окремих команд введення даних\n",
        "\n",
        "4. Назви змінних повинні бути інформативними та оформленими відповідно до правил іменування змінних\n",
        "\n",
        "5. Додати 2 коментарі, що вказують на блоки введення та виведення даних.\n",
        "\n",
        "***Формат виведення даних:***\n",
        "\n",
        "(1) **Ім'я** (2) **Прізвище**\n",
        "\n",
        "(3) **Номер телефону**\n",
        "\n",
        "Str. (4) **Назва вулиці** (5) **Номер будинку**, ap. (6) **Номер квартири**, (7) **Місто**\n",
        "\n",
        "(8) **Індекс**\n",
        "\n",
        "(9) **Країна**\n",
        "\n",
        "***Приклад виведення:***\n",
        "\n",
        "*Lucas Diallo*\n",
        "\n",
        "*3221234567*\n",
        "\n",
        "*Str. Longue 3, ap. 5, Bruxelles*\n",
        "\n",
        "*1020*\n",
        "\n",
        "*Belgium*"
      ],
      "metadata": {
        "id": "M7jjwxAvfKa2"
      }
    },
    {
      "cell_type": "code",
      "execution_count": null,
      "source": [
        "#Input \r\n",
        "\r\n",
        "user_name = input('Enter your name: ')\r\n",
        "\r\n",
        "user_surname = input('Enter your surname: ')\r\n",
        "\r\n",
        "user_number = input('fEnter your telephone number: ')\r\n",
        "\r\n",
        "user_street = input('Enter your street: ')\r\n",
        "\r\n",
        "user_housenum = input('Enter your house number: ')\r\n",
        "\r\n",
        "user_apartmentsnum = input('Enter your apartment number: ')\r\n",
        "\r\n",
        "user_apartmentsnum = input('Enter your city: ')\r\n",
        "\r\n",
        "user_index = input('Enter your index: ')\r\n",
        "\r\n",
        "user_country = input('Enter your country: ')\r\n",
        "#Print\r\n",
        "\r\n",
        "print(user_name, user_surname)\r\n",
        "\r\n",
        "print(user_number)\r\n",
        "\r\n",
        "print(user_street,' ',user_housenum, ' ',', ap.',user_apartmentsnum,' ', user_street, sep='')\r\n",
        "\r\n",
        "print(user_index)\r\n",
        "\r\n",
        "print(user_country)\r\n",
        "\r\n"
      ],
      "outputs": [],
      "metadata": {
        "id": "hEJG5C3_fJk9"
      }
    },
    {
      "cell_type": "markdown",
      "source": [
        "### **Завдання 2 (1,5 бали)**"
      ],
      "metadata": {
        "id": "WmnpKrmPf689"
      }
    },
    {
      "cell_type": "markdown",
      "source": [
        "Шкала Фудзіти — шкала, що використовується для класифікації торнадо за швидкістю вітру і за завданою шкодою.\n",
        "\n",
        "Scale | km/h | Potential damage\n",
        "--- | --- | ---\n",
        "EF0 | 0 - 137 | Minor\n",
        "EF1 | 137 – 177 | Moderate\n",
        "EF2 | 177 – 217 | Considerable\n",
        "EF3 | 217 – 266 | Severe\n",
        "EF4 | 266 - 322 | Devastating\n",
        "EF5 | 322 - ... | Incredible\n",
        "\n",
        "Напишіть програму, яка буде зчитувати швидкість вітру, введену користувачем (у км/год), та виводити відповідну потенційну шкоду як частину змістовного повідомлення. Наприклад, якщо користувач вводить швидкість вітру 248, ваша програма повинна показати, що потенційна шкода є серйозною (severe). Програма також повинна виводити повідомлення про помилку, якщо користувач введе від'ємне число."
      ],
      "metadata": {
        "id": "4n4p_pz7gFKM"
      }
    },
    {
      "cell_type": "code",
      "execution_count": null,
      "source": [
        "\r\n",
        "km_h = float(input(\"Please input speed: \"))\r\n",
        "\r\n",
        "if km_h<137:\r\n",
        "\r\n",
        "    print(\"Minor\")\r\n",
        "\r\n",
        "elif 177>=km_h>137:\r\n",
        "\r\n",
        "    print(\"Moderate\")\r\n",
        "\r\n",
        "elif 217>=km_h>177:\r\n",
        "\r\n",
        "    print(\"Considerable\")\r\n",
        "\r\n",
        "elif 266>=km_h>217:\r\n",
        "\r\n",
        "    print(\"Severe\")\r\n",
        "\r\n",
        "elif 322>=km_h>266:\r\n",
        "\r\n",
        "    print(\"Devastating\")\r\n",
        "\r\n",
        "else: \r\n",
        "\r\n",
        "    print(\"Incredible\")\r\n"
      ],
      "outputs": [],
      "metadata": {}
    },
    {
      "cell_type": "markdown",
      "source": [
        "### **Завдання 3 (бонусне, 1 бал)**"
      ],
      "metadata": {
        "id": "X8fC_GM_nMRi"
      }
    },
    {
      "cell_type": "markdown",
      "source": [
        "Часто говорять, що один календарний рік еквівалентний 7 рокам для собаки. Однак таке просте перетворення не враховує того, що собаки досягають повноліття приблизно у 2 роки. Тому деякі люди вважать, що краще рахувати кожен з перших двох календарних років як 10,5 років для собаки, а потім рахувати кожен наступний календарний рік як 4 роки для собаки.\n",
        "\n",
        "Напишіть програму, яка конвертує календарні роки у \"собачі\", як було показано в попередньому абзаці. Переконайтесь, що ваша програма працює правильно, конвертуючи перші два календарні роки та всі подальші. Ваша програма також повинна виводити повідомлення про помилку, якщо користувач введе від'ємне число."
      ],
      "metadata": {
        "id": "b593txPwotgN"
      }
    },
    {
      "cell_type": "code",
      "execution_count": null,
      "source": [
        "check = True\r\n",
        "\r\n",
        "while check:\r\n",
        "\r\n",
        "    year = float(input(\"Input the number of years: \"))\r\n",
        "\r\n",
        "\r\n",
        "    if year < 0:\r\n",
        "        print(\"You have enter number that is less than zero. Try againg.\")\r\n",
        "\r\n",
        "\r\n",
        "    elif year>2:\r\n",
        "        year_dog = 10.5*2+(year-2)*4\r\n",
        "        print(\"In dog's year it is:\", year_dog)\r\n",
        "        check = False\r\n",
        "\r\n",
        "\r\n",
        "    else:\r\n",
        "        year_dog = year *10.5\r\n",
        "        print(\"In dog's year it is:\", year_dog)\r\n",
        "        check = False"
      ],
      "outputs": [],
      "metadata": {
        "id": "PA_E_H0Zosu0"
      }
    }
  ]
}